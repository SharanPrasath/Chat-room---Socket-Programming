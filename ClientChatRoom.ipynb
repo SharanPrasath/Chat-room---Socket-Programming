{
 "cells": [
  {
   "cell_type": "code",
   "execution_count": null,
   "metadata": {},
   "outputs": [],
   "source": [
    "import socket\n",
    "\n",
    "#SOCKET OBJECT\n",
    "s_049 = socket.socket(socket.AF_INET, socket.SOCK_STREAM) \n",
    "\n",
    "# MACHINE NAME\n",
    "host_049 = socket.gethostname()                           \n",
    "\n",
    "port = 9999\n",
    "\n",
    "# CONNECTION TO HOST\n",
    "s_049.connect((host_049, port))                               \n",
    "\n",
    "# MAX 1024 BYTES ALLOWED\n",
    "t_049 = s_049.recv(1024)                                     \n",
    "\n",
    "s.close()\n",
    "\n",
    "print(\"The time got from the server is %s\" % t_049.decode('ascii'))"
   ]
  }
 ],
 "metadata": {
  "kernelspec": {
   "display_name": "Python 3",
   "language": "python",
   "name": "python3"
  },
  "language_info": {
   "codemirror_mode": {
    "name": "ipython",
    "version": 3
   },
   "file_extension": ".py",
   "mimetype": "text/x-python",
   "name": "python",
   "nbconvert_exporter": "python",
   "pygments_lexer": "ipython3",
   "version": "3.7.3"
  }
 },
 "nbformat": 4,
 "nbformat_minor": 2
}
