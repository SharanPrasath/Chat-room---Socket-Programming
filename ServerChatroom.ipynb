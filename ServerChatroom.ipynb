{
 "cells": [
  {
   "cell_type": "code",
   "execution_count": null,
   "metadata": {},
   "outputs": [],
   "source": [
    "import socket                                         \n",
    "import time\n",
    "\n",
    "#SOCKETOBJECT\n",
    "ser_socket_049 = socket.socket(\n",
    "\t        socket.AF_INET, socket.SOCK_STREAM) \n",
    "\n",
    "#A MACHINE NAME\n",
    "host_049 = socket.gethostname()                           \n",
    "\n",
    "port = 9999                                           \n",
    "\n",
    "ser_socket_049.bind((host_049, port))                                  \n",
    "\n",
    "#MAX QUEUE 5 REQUESTS\n",
    "ser_socket_049.listen(5)                                           \n",
    "\n",
    "while True:\n",
    "   #ESTABLISH CONNECTION\n",
    "    clientsocket,addr = ser_socket_049.accept()      \n",
    "\n",
    "    print(\"Got a connection from %s\" % str(addr))\n",
    "    currentTime = time.ctime(time.time()) + \"\\r\\n\"\n",
    "    clientsocket.send(currentTime.encode('ascii'))\n",
    "    clientsocket.close()"
   ]
  }
 ],
 "metadata": {
  "kernelspec": {
   "display_name": "Python 3",
   "language": "python",
   "name": "python3"
  },
  "language_info": {
   "codemirror_mode": {
    "name": "ipython",
    "version": 3
   },
   "file_extension": ".py",
   "mimetype": "text/x-python",
   "name": "python",
   "nbconvert_exporter": "python",
   "pygments_lexer": "ipython3",
   "version": "3.7.3"
  }
 },
 "nbformat": 4,
 "nbformat_minor": 2
}
